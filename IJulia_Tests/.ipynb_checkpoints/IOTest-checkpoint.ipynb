{
 "cells": [
  {
   "cell_type": "code",
   "execution_count": 9,
   "metadata": {
    "collapsed": false
   },
   "outputs": [],
   "source": [
    "using PriceDist"
   ]
  },
  {
   "cell_type": "code",
   "execution_count": 10,
   "metadata": {
    "collapsed": false
   },
   "outputs": [],
   "source": [
    "# reload(\"PriceDist\")"
   ]
  },
  {
   "cell_type": "code",
   "execution_count": 11,
   "metadata": {
    "collapsed": false
   },
   "outputs": [],
   "source": [
    "@windows_only baseFolder = \"C:\\\\Users\\\\pemmelaar7168\\\\.julia\\\\v0.3\\\\Simulator\\\\\"\n",
    "@windows_only iopath = \"C:\\\\Users\\\\\\pemmelaar7168\\\\\\Documents\\\\SimulationIO\\\\\"\n",
    "@windows_only input      = joinpath(iopath,\"previous\",\"ALL_BR\",\"\")\n",
    "@windows_only output     = joinpath(iopath,\"output\",\"logs\")\n",
    "@osx_only baseFolder = \"/Users/andrep/.julia/v0.4/Simulator/\"\n",
    "@osx_only input      = joinpath(baseFolder,\"input\")\n",
    "@osx_only output     = joinpath(baseFolder,\"output\",\"PriceDistLog\")"
   ]
  },
  {
   "cell_type": "code",
   "execution_count": 12,
   "metadata": {
    "collapsed": false
   },
   "outputs": [
    {
     "data": {
      "text/plain": [
       "\"C:\\\\Users\\\\pemmelaar7168\\\\Documents\\\\SimulationIO\\\\output\\\\logs\\\\PriceDist_20150629.csv\""
      ]
     },
     "execution_count": 12,
     "metadata": {},
     "output_type": "execute_result"
    }
   ],
   "source": [
    "files = filter(x-> contains(x,\".dat\"), readdir(input))\n",
    "fstr = files[end-1]\n",
    "ofile = joinpath(output,\"PriceDist_$(split(split(fstr,'_')[3],'.')[1]).csv\")\n",
    "@time results = walkForward(fstr, input, ofile);"
   ]
  },
  {
   "cell_type": "code",
   "execution_count": null,
   "metadata": {
    "collapsed": true
   },
   "outputs": [],
   "source": []
  }
 ],
 "metadata": {
  "kernelspec": {
   "display_name": "Julia 0.4.0",
   "language": "julia",
   "name": "julia-0.4"
  },
  "language_info": {
   "file_extension": ".jl",
   "mimetype": "application/julia",
   "name": "julia",
   "version": "0.4.0"
  }
 },
 "nbformat": 4,
 "nbformat_minor": 0
}
