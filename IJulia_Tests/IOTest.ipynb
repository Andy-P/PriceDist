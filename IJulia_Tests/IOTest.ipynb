{
 "cells": [
  {
   "cell_type": "code",
   "execution_count": 1,
   "metadata": {
    "collapsed": false
   },
   "outputs": [],
   "source": [
    "using PriceDist"
   ]
  },
  {
   "cell_type": "code",
   "execution_count": 2,
   "metadata": {
    "collapsed": true
   },
   "outputs": [],
   "source": [
    "@windows_only baseFolder = \"C:\\\\Users\\\\pemmelaar7168\\\\.julia\\\\v0.3\\\\Simulator\\\\\"\n",
    "@windows_only iopath = \"C:\\\\Users\\\\\\pemmelaar7168\\\\\\Documents\\\\SimulationIO\\\\\"\n",
    "@windows_only input      = joinpath(iopath,\"previous\",\"ALL_BR\",\"\")\n",
    "@windows_only output     = joinpath(iopath,\"output\",\"logs\")\n",
    "@osx_only baseFoldZer = \"/Users/Andre/.julia/v0.3/Simulator/\"\n",
    "@osx_only input      = joinpath(baseFolder,\"input\")\n",
    "@osx_only output     = joinpath(baseFolder,\"output\",\"\")"
   ]
  },
  {
   "cell_type": "code",
   "execution_count": 11,
   "metadata": {
    "collapsed": false
   },
   "outputs": [
    {
     "ename": "LoadError",
     "evalue": "LoadError: BoundsError: attempt to access 0-element Array{PriceDist.StateResult,1}\n  at index [1]\nwhile loading In[11], in expression starting on line 6",
     "output_type": "error",
     "traceback": [
      "LoadError: BoundsError: attempt to access 0-element Array{PriceDist.StateResult,1}\n  at index [1]\nwhile loading In[11], in expression starting on line 6",
      "",
      " in getindex at abstractarray.jl:468"
     ]
    }
   ],
   "source": [
    "e = MktEvent()\n",
    "dc = IODataCache()\n",
    "files = filter(x-> contains(x,\".dat\"), readdir(input))\n",
    "fstr = files[end-1]\n",
    "f = open(joinpath(input, fstr),\"r\")\n",
    "stateResult = StateResult[]\n",
    "cnt = 0\n",
    "while !eof(f)\n",
    "    cnt += 1\n",
    "    fillBinaryEvent!(f, dc, e) # get next market event\n",
    "end\n",
    "\n",
    "close(f)"
   ]
  },
  {
   "cell_type": "code",
   "execution_count": 4,
   "metadata": {
    "collapsed": false
   },
   "outputs": [
    {
     "data": {
      "text/plain": [
       "(PriceDist.MktEvent(20150630,21539848,2015-06-30T05:58:59.848,0,122.536f0,122.561f0,0,0,0,0,5,0),589013)"
      ]
     },
     "execution_count": 4,
     "metadata": {},
     "output_type": "execute_result"
    }
   ],
   "source": [
    "e,cnt"
   ]
  },
  {
   "cell_type": "code",
   "execution_count": 6,
   "metadata": {
    "collapsed": false
   },
   "outputs": [
    {
     "data": {
      "text/plain": [
       "PriceDist.StateResult(2015-06-30T05:58:59.848,2015-06-30T05:58:59.848,[0.0,0.0],Float64[])"
      ]
     },
     "execution_count": 6,
     "metadata": {},
     "output_type": "execute_result"
    }
   ],
   "source": [
    "a = StateResult(e.dt,[0.,0.])"
   ]
  },
  {
   "cell_type": "code",
   "execution_count": 7,
   "metadata": {
    "collapsed": false
   },
   "outputs": [
    {
     "data": {
      "text/plain": [
       "2-element Array{Float64,1}:\n",
       " 0.0\n",
       " 0.0"
      ]
     },
     "execution_count": 7,
     "metadata": {},
     "output_type": "execute_result"
    }
   ],
   "source": [
    "a.startstate"
   ]
  },
  {
   "cell_type": "code",
   "execution_count": 8,
   "metadata": {
    "collapsed": false
   },
   "outputs": [
    {
     "data": {
      "text/plain": [
       "3-element Array{Any,1}:\n",
       " call(::Type{PriceDist.StateResult}, starttime::DateTime, state::Array{T,1}) at C:\\Users\\pemmelaar7168\\.julia\\v0.4\\PriceDist\\src\\stateResult.jl:7\n",
       " call{T}(::Type{T}, arg) at essentials.jl:56                                                                                                     \n",
       " call{T}(::Type{T}, args...) at essentials.jl:57                                                                                                 "
      ]
     },
     "execution_count": 8,
     "metadata": {},
     "output_type": "execute_result"
    }
   ],
   "source": [
    "methods(StateResult)"
   ]
  },
  {
   "cell_type": "code",
   "execution_count": null,
   "metadata": {
    "collapsed": true
   },
   "outputs": [],
   "source": []
  }
 ],
 "metadata": {
  "kernelspec": {
   "display_name": "Julia 0.4.0",
   "language": "julia",
   "name": "julia-0.4"
  },
  "language_info": {
   "file_extension": ".jl",
   "mimetype": "application/julia",
   "name": "julia",
   "version": "0.4.0"
  }
 },
 "nbformat": 4,
 "nbformat_minor": 0
}
