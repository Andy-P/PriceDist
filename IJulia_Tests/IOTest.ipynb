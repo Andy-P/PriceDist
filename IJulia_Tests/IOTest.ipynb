{
 "cells": [
  {
   "cell_type": "code",
   "execution_count": 1,
   "metadata": {
    "collapsed": false
   },
   "outputs": [
    {
     "name": "stderr",
     "output_type": "stream",
     "text": [
      "WARNING: requiring \"Dates\" in module \"PriceDist\" did not define a corresponding module.\n",
      "\n",
      "WARNING: deprecated syntax \"[a=>b, ...]\" at /Users/andrep/.julia/v0.4/PriceDist/src/eventIO.jl:54.\n",
      "Use \"Dict(a=>b, ...)\" instead.\n"
     ]
    }
   ],
   "source": [
    "using PriceDist"
   ]
  },
  {
   "cell_type": "code",
   "execution_count": null,
   "metadata": {
    "collapsed": false
   },
   "outputs": [],
   "source": [
    "reload(\"PriceDist\")"
   ]
  },
  {
   "cell_type": "code",
   "execution_count": 2,
   "metadata": {
    "collapsed": false
   },
   "outputs": [
    {
     "data": {
      "text/plain": [
       "\"/Users/andrep/.julia/v0.4/Simulator/output/PriceDistLog\""
      ]
     },
     "execution_count": 2,
     "metadata": {},
     "output_type": "execute_result"
    }
   ],
   "source": [
    "@windows_only baseFolder = \"C:\\\\Users\\\\pemmelaar7168\\\\.julia\\\\v0.3\\\\Simulator\\\\\"\n",
    "@windows_only iopath = \"C:\\\\Users\\\\\\pemmelaar7168\\\\\\Documents\\\\SimulationIO\\\\\"\n",
    "@windows_only input      = joinpath(iopath,\"previous\",\"ALL_BR\",\"\")\n",
    "@windows_only output     = joinpath(iopath,\"output\",\"logs\")\n",
    "@osx_only baseFolder = \"/Users/andrep/.julia/v0.4/Simulator/\"\n",
    "@osx_only input      = joinpath(baseFolder,\"input\")\n",
    "@osx_only output     = joinpath(baseFolder,\"output\",\"PriceDistLog\")"
   ]
  },
  {
   "cell_type": "code",
   "execution_count": 3,
   "metadata": {
    "collapsed": false
   },
   "outputs": [
    {
     "name": "stdout",
     "output_type": "stream",
     "text": [
      "  1.942811 seconds (32.45 M allocations: 1.178 GB, 9.24% gc time)\n"
     ]
    }
   ],
   "source": [
    "files = filter(x-> contains(x,\".dat\"), readdir(input))\n",
    "fstr = files[end-1]\n",
    "ofile = joinpath(output,\"PriceDist_$(split(split(fstr,'_')[3],'.')[1]).csv\")\n",
    "@time results = walkForward(fstr, input, ofile);\n"
   ]
  },
  {
   "cell_type": "code",
   "execution_count": null,
   "metadata": {
    "collapsed": false
   },
   "outputs": [],
   "source": [
    "length(results)"
   ]
  },
  {
   "cell_type": "code",
   "execution_count": null,
   "metadata": {
    "collapsed": false
   },
   "outputs": [],
   "source": [
    "results[20]"
   ]
  },
  {
   "cell_type": "code",
   "execution_count": null,
   "metadata": {
    "collapsed": true
   },
   "outputs": [],
   "source": []
  }
 ],
 "metadata": {
  "kernelspec": {
   "display_name": "Julia 0.4.0",
   "language": "julia",
   "name": "julia-0.4"
  },
  "language_info": {
   "file_extension": ".jl",
   "mimetype": "application/julia",
   "name": "julia",
   "version": "0.4.0"
  }
 },
 "nbformat": 4,
 "nbformat_minor": 0
}
